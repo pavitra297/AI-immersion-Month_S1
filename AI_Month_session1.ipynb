{
  "nbformat": 4,
  "nbformat_minor": 0,
  "metadata": {
    "colab": {
      "provenance": []
    },
    "kernelspec": {
      "name": "python3",
      "display_name": "Python 3"
    },
    "language_info": {
      "name": "python"
    }
  },
  "cells": [
    {
      "cell_type": "code",
      "execution_count": 1,
      "metadata": {
        "colab": {
          "base_uri": "https://localhost:8080/"
        },
        "id": "66AGpuv0fvjm",
        "outputId": "acc4b63f-aabf-4b17-e5d3-d1e5fdaf4614"
      },
      "outputs": [
        {
          "output_type": "stream",
          "name": "stdout",
          "text": [
            "5\n"
          ]
        }
      ],
      "source": [
        "i=5\n",
        "print(i)"
      ]
    },
    {
      "cell_type": "markdown",
      "source": [
        "List Mutable"
      ],
      "metadata": {
        "id": "I40AH1rsmxM5"
      }
    },
    {
      "cell_type": "code",
      "source": [
        "l=[1]*5\n",
        "print(l)\n",
        "l.append(2)\n",
        "print(l)\n",
        "l.insert(2,3)\n",
        "print(l)\n",
        "l1=[3]*3\n",
        "l.extend(l1) #append list\n",
        "print(l)\n",
        "#removing elements\n",
        "l.remove(2)\n",
        "print(l)\n",
        "l1.pop()\n",
        "print(l1)"
      ],
      "metadata": {
        "colab": {
          "base_uri": "https://localhost:8080/"
        },
        "id": "JoVdXMKdmtSd",
        "outputId": "568f3b60-4bb1-474e-a22c-3bfe6ac6e7c1"
      },
      "execution_count": 9,
      "outputs": [
        {
          "output_type": "stream",
          "name": "stdout",
          "text": [
            "[1, 1, 1, 1, 1]\n",
            "[1, 1, 1, 1, 1, 2]\n",
            "[1, 1, 3, 1, 1, 1, 2]\n",
            "[1, 1, 3, 1, 1, 1, 2, 3, 3, 3]\n",
            "[1, 1, 3, 1, 1, 1, 3, 3, 3]\n",
            "[3, 3]\n"
          ]
        }
      ]
    },
    {
      "cell_type": "markdown",
      "source": [
        "Tuples Immutable"
      ],
      "metadata": {
        "id": "PHCCYnt8pSu3"
      }
    },
    {
      "cell_type": "code",
      "source": [
        "t=(1,2,3,4)\n",
        "print(t)\n",
        "print(type(t))"
      ],
      "metadata": {
        "colab": {
          "base_uri": "https://localhost:8080/"
        },
        "id": "mthPGEPYpKlL",
        "outputId": "d542bf92-8ecf-455e-9c65-5afa03b7d382"
      },
      "execution_count": 10,
      "outputs": [
        {
          "output_type": "stream",
          "name": "stdout",
          "text": [
            "(1, 2, 3, 4)\n",
            "<class 'tuple'>\n"
          ]
        }
      ]
    },
    {
      "cell_type": "markdown",
      "source": [
        "numpy: arrays"
      ],
      "metadata": {
        "id": "ZXodKO_cqufc"
      }
    },
    {
      "cell_type": "code",
      "source": [
        "import numpy as np\n",
        "arr=np.array([1,2,3,4])\n",
        "print(arr)\n",
        "print(type(arr))"
      ],
      "metadata": {
        "colab": {
          "base_uri": "https://localhost:8080/"
        },
        "id": "j8kiQfvQqquR",
        "outputId": "2b96f465-91d1-44f8-cb94-fae33cf1311d"
      },
      "execution_count": 11,
      "outputs": [
        {
          "output_type": "stream",
          "name": "stdout",
          "text": [
            "[1 2 3 4]\n",
            "<class 'numpy.ndarray'>\n"
          ]
        }
      ]
    }
  ]
}